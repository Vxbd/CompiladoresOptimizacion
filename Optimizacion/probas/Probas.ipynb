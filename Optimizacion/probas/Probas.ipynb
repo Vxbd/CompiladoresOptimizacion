{
 "cells": [
  {
   "cell_type": "markdown",
   "id": "2808510f",
   "metadata": {},
   "source": [
    "# Técnicas de optimización."
   ]
  },
  {
   "cell_type": "markdown",
   "id": "05c06968",
   "metadata": {},
   "source": [
    "### Bibliotecas necesarias."
   ]
  },
  {
   "cell_type": "code",
   "execution_count": 2,
   "id": "0b8781c1",
   "metadata": {},
   "outputs": [],
   "source": [
    "import subprocess\n",
    "import math\n",
    "import numpy as np\n",
    "from matplotlib import pyplot as plt\n",
    "from tqdm.notebook import tqdm"
   ]
  },
  {
   "cell_type": "code",
   "execution_count": 3,
   "id": "0128aef2",
   "metadata": {},
   "outputs": [],
   "source": [
    "#Función auxiliar para imprimir os resultados\n",
    "def imp_res(res):\n",
    "    print(len(res))\n",
    "    print(\"Media: \", round(np.mean(res),2), \"Desv: \" , round(np.std(res),5))\n",
    "    print(\"Min: \", round(np.amin(res),5))\n",
    "    return (np.mean(res), np.std(res), np.amin(res))\n",
    "\n",
    "#Funcion auxiliar para obter o resultados estatistiocs da experimentación\n",
    "def obt_res(res):\n",
    "    return [np.mean(res), np.std(res), np.amin(res)]\n"
   ]
  },
  {
   "cell_type": "markdown",
   "id": "506a36f0",
   "metadata": {},
   "source": [
    "### Probas iniciais."
   ]
  },
  {
   "cell_type": "code",
   "execution_count": 4,
   "id": "c68ff380",
   "metadata": {},
   "outputs": [
    {
     "data": {
      "text/plain": [
       "'0.951830'"
      ]
     },
     "execution_count": 4,
     "metadata": {},
     "output_type": "execute_result"
    }
   ],
   "source": [
    "result = subprocess.run(['./inicial.out', '10000', '10000'], stdout=subprocess.PIPE)\n",
    "result.stdout.decode('utf-8')"
   ]
  },
  {
   "cell_type": "code",
   "execution_count": 5,
   "id": "1d5f1383",
   "metadata": {},
   "outputs": [
    {
     "data": {
      "text/plain": [
       "'0.797657'"
      ]
     },
     "execution_count": 5,
     "metadata": {},
     "output_type": "execute_result"
    }
   ],
   "source": [
    "result = subprocess.run(['./optimizadoDin.out', '10000', '10000'], stdout=subprocess.PIPE)\n",
    "result.stdout.decode('utf-8')"
   ]
  },
  {
   "cell_type": "code",
   "execution_count": 6,
   "id": "fd3a7ae1",
   "metadata": {},
   "outputs": [
    {
     "data": {
      "text/plain": [
       "0.896911"
      ]
     },
     "execution_count": 6,
     "metadata": {},
     "output_type": "execute_result"
    }
   ],
   "source": [
    "result = subprocess.run(['./inicialDin.out', '10000', '10000'], stdout=subprocess.PIPE)\n",
    "restext = result.stdout.decode('utf-8')\n",
    "float(restext)"
   ]
  },
  {
   "cell_type": "code",
   "execution_count": 9,
   "id": "611ebeb4",
   "metadata": {
    "scrolled": true
   },
   "outputs": [
    {
     "data": {
      "application/vnd.jupyter.widget-view+json": {
       "model_id": "1ec11f2e1fec47189ee968ba9217a737",
       "version_major": 2,
       "version_minor": 0
      },
      "text/plain": [
       "Experimentacion:   0%|          | 0/10 [00:00<?, ?it/s]"
      ]
     },
     "metadata": {},
     "output_type": "display_data"
    },
    {
     "name": "stdout",
     "output_type": "stream",
     "text": [
      "10\n",
      "Media:  0.83 Desv:  0.01891\n",
      "Min:  0.80188\n"
     ]
    },
    {
     "data": {
      "text/plain": [
       "(0.8308281000000001, 0.018910061773828243, 0.801875)"
      ]
     },
     "execution_count": 9,
     "metadata": {},
     "output_type": "execute_result"
    }
   ],
   "source": [
    "vInicial = []\n",
    "for i in tqdm(range(10), desc=\"Experimentacion: \"):\n",
    "    result = subprocess.run(['./inicial.out', '10000', '10000'], stdout=subprocess.PIPE)\n",
    "    restext = result.stdout.decode('utf-8')\n",
    "    vInicial.append(float(restext))\n",
    "imp_res(vInicial)"
   ]
  },
  {
   "cell_type": "markdown",
   "id": "45ce98db",
   "metadata": {},
   "source": [
    "### Quecemento cache e número de iteracións."
   ]
  },
  {
   "cell_type": "code",
   "execution_count": null,
   "id": "9d381be5",
   "metadata": {},
   "outputs": [],
   "source": [
    "#Variando ITER\n",
    "medias = []\n",
    "desvis = []\n",
    "ites = range(1,10000,100)\n",
    "\n",
    "n = 5000\n",
    "ite = 1000\n",
    "for ite in tqdm(ites):\n",
    "    vInicial = []\n",
    "    for i in range(10):\n",
    "        result = subprocess.run(['./inicialDin.out', str(n), str(ite)], stdout=subprocess.PIPE)\n",
    "        restext = result.stdout.decode('utf-8')\n",
    "        vInicial.append(float(restext)/ite)\n",
    "    medias.append(obt_res(vInicial)[0])\n",
    "    desvis.append(obt_res(vInicial)[1])"
   ]
  },
  {
   "cell_type": "code",
   "execution_count": null,
   "id": "4c5e0a02",
   "metadata": {},
   "outputs": [],
   "source": [
    "fig = plt.figure()  # Creamos una figura (contenedor para elementos a dibujar)\n",
    "ax = fig.add_subplot(111, projection='rectilinear')  # añadimos subplot-canvas a la figura (contiene los elementos del dibujo)\n",
    " \n",
    "# añadimos los plots\n",
    "ax.plot(ites, medias, '--', color=\"red\", label=\"Media\")\n",
    "ax.plot(ites, desvis, '--', color=\"green\", label=\"Desviación típica\")\n",
    "ax.plot(ites, medias, '.', color=\"red\")\n",
    "ax.plot(ites, desvis, '.', color=\"green\")\n",
    "ax.legend()\n",
    " \n",
    "ax.set_title(\"Versión Inicial: Análise da variación de ITER con N = 5000\")  # Ponemos un título\n",
    "ax.set_xlabel(\"Número ITER.\")  # Nombramos los ejes\n",
    "ax.set_ylabel(\"Tempo en segundos.\")\n",
    " \n",
    "plt.show()  # Mostramos a figura por pantalla, que se cor"
   ]
  },
  {
   "cell_type": "code",
   "execution_count": 8,
   "id": "1519f880",
   "metadata": {},
   "outputs": [
    {
     "name": "stdout",
     "output_type": "stream",
     "text": [
      "1.669017\n"
     ]
    }
   ],
   "source": [
    "n = 200000\n",
    "ite = 1000\n",
    "\n",
    "result = subprocess.run(['./inicial.out', str(n), str(ite)], stdout=subprocess.PIPE)\n",
    "restext = result.stdout.decode('utf-8')\n",
    "print(restext)"
   ]
  },
  {
   "cell_type": "markdown",
   "id": "6206ca2b",
   "metadata": {},
   "source": [
    "## Análise Xeral."
   ]
  },
  {
   "cell_type": "markdown",
   "id": "c3839952",
   "metadata": {},
   "source": [
    "### Inicial."
   ]
  },
  {
   "cell_type": "code",
   "execution_count": 35,
   "id": "f5133129",
   "metadata": {},
   "outputs": [
    {
     "data": {
      "application/vnd.jupyter.widget-view+json": {
       "model_id": "ce76e372a49e4d29ba765c775a8a20e8",
       "version_major": 2,
       "version_minor": 0
      },
      "text/plain": [
       "  0%|          | 0/10 [00:00<?, ?it/s]"
      ]
     },
     "metadata": {},
     "output_type": "display_data"
    }
   ],
   "source": [
    "#Versión inivial\n",
    "#Variando N\n",
    "imedias = []\n",
    "idesvis = []\n",
    "enes = range(1,1000000,100000)\n",
    "\n",
    "n = 1000\n",
    "ite = 2000\n",
    "for n in tqdm(enes):\n",
    "    vInicial = []\n",
    "    for i in range(10):\n",
    "        result = subprocess.run(['./inicialDin.out', str(n), str(ite)], stdout=subprocess.PIPE)\n",
    "        restext = result.stdout.decode('utf-8')\n",
    "        vInicial.append(float(restext)/ite)\n",
    "    imedias.append(obt_res(vInicial)[0])\n",
    "    idesvis.append(obt_res(vInicial)[1])"
   ]
  },
  {
   "cell_type": "code",
   "execution_count": 36,
   "id": "e89674ea",
   "metadata": {},
   "outputs": [
    {
     "name": "stderr",
     "output_type": "stream",
     "text": [
      "No artists with labels found to put in legend.  Note that artists whose label start with an underscore are ignored when legend() is called with no argument.\n"
     ]
    },
    {
     "data": {
      "image/png": "[encoded data removed]",
      "text/plain": [
       "<Figure size 432x288 with 1 Axes>"
      ]
     },
     "metadata": {
      "needs_background": "light"
     },
     "output_type": "display_data"
    }
   ],
   "source": [
    "fig = plt.figure()  # Creamos una figura (contenedor para elementos a dibujar)\n",
    "ax = fig.add_subplot(111, projection='rectilinear')  # añadimos subplot-canvas a la figura (contiene los elementos del dibujo)\n",
    " \n",
    "# añadimos los plots\n",
    "ax.errorbar(enes, imedias, xerr=0, yerr=idesvis, color=\"blue\")\n",
    "#ax.plot(enes, imedias, '--', color=\"red\", label=\"Media\")\n",
    "#ax.plot(enes, idesvis, '--', color=\"green\", label=\"Desviación típica\")\n",
    "#ax.plot(enes, imedias, '.', color=\"red\")\n",
    "#ax.plot(enes, idesvis, '.', color=\"green\")\n",
    "ax.legend()\n",
    " \n",
    "ax.set_title(\"  VI: Análise da variación de N, ITER = 1 000\")  # Ponemos un título\n",
    "ax.set_xlabel(\"Número N.\")  # Nombramos los ejes\n",
    "ax.set_ylabel(\"Tempo en segundos.\")\n",
    " \n",
    "plt.show()  # Mostramos a figura por pantalla, que se cor"
   ]
  },
  {
   "cell_type": "markdown",
   "id": "ca4a321c",
   "metadata": {},
   "source": [
    "### Optimizado."
   ]
  },
  {
   "cell_type": "code",
   "execution_count": 37,
   "id": "c3ee5be4",
   "metadata": {},
   "outputs": [
    {
     "data": {
      "application/vnd.jupyter.widget-view+json": {
       "model_id": "618501b207334be8af961a6a3eae9775",
       "version_major": 2,
       "version_minor": 0
      },
      "text/plain": [
       "  0%|          | 0/10 [00:00<?, ?it/s]"
      ]
     },
     "metadata": {},
     "output_type": "display_data"
    }
   ],
   "source": [
    "#Variando N\n",
    "omedias = []\n",
    "odesvis = []\n",
    "enes = range(1,1000000,100000)\n",
    "\n",
    "n = 1000\n",
    "ite = 2000\n",
    "for n in tqdm(enes):\n",
    "    vOpt = []\n",
    "    for i in range(10):\n",
    "        result = subprocess.run(['./optimizadoDin.out', str(n), str(ite)], stdout=subprocess.PIPE)\n",
    "        restext = result.stdout.decode('utf-8')\n",
    "        vOpt.append(float(restext)/ite)\n",
    "    omedias.append(obt_res(vOpt)[0])\n",
    "    odesvis.append(obt_res(vOpt)[1])"
   ]
  },
  {
   "cell_type": "code",
   "execution_count": 38,
   "id": "8a23eb7b",
   "metadata": {},
   "outputs": [
    {
     "name": "stderr",
     "output_type": "stream",
     "text": [
      "No artists with labels found to put in legend.  Note that artists whose label start with an underscore are ignored when legend() is called with no argument.\n"
     ]
    },
    {
     "data": {
      "image/png": "[encoded data removed]",
      "text/plain": [
       "<Figure size 432x288 with 1 Axes>"
      ]
     },
     "metadata": {
      "needs_background": "light"
     },
     "output_type": "display_data"
    }
   ],
   "source": [
    "fig = plt.figure()  # Creamos una figura (contenedor para elementos a dibujar)\n",
    "ax = fig.add_subplot(111, projection='rectilinear')  # añadimos subplot-canvas a la figura (contiene los elementos del dibujo)\n",
    " \n",
    "# añadimos los plots\n",
    "ax.errorbar(enes, omedias, xerr=0, yerr=odesvis, color=\"red\")\n",
    "#ax.plot(enes, omedias, '--', color=\"red\", label=\"Media\")\n",
    "#ax.plot(enes, odesvis, '--', color=\"green\", label=\"Desviación típica\")\n",
    "#ax.plot(enes, omedias, '.', color=\"red\")\n",
    "#ax.plot(enes, odesvis, '.', color=\"green\")\n",
    "ax.legend()\n",
    " \n",
    "ax.set_title(\"Versión Optimizada: Análise da variación de N con ITER = 5000\")  # Ponemos un título\n",
    "ax.set_xlabel(\"Número N.\")  # Nombramos los ejes\n",
    "ax.set_ylabel(\"Tempo en segundos.\")\n",
    " \n",
    "plt.show()  # Mostramos a figura por pantalla, que se cor"
   ]
  },
  {
   "cell_type": "code",
   "execution_count": 39,
   "id": "37bdc23b",
   "metadata": {},
   "outputs": [
    {
     "data": {
      "image/png": "[encoded data removed]",
      "text/plain": [
       "<Figure size 432x288 with 1 Axes>"
      ]
     },
     "metadata": {
      "needs_background": "light"
     },
     "output_type": "display_data"
    }
   ],
   "source": [
    "fig = plt.figure()  # Creamos una figura (contenedor para elementos a dibujar)\n",
    "ax = fig.add_subplot(111, projection='rectilinear')  # añadimos subplot-canvas a la figura (contiene los elementos del dibujo)\n",
    " \n",
    "# añadimos los plots\n",
    "#ax.plot(enes, omedias, '--', color=\"red\", label=\"VO: Media\")\n",
    "#ax.plot(enes, odesvis, '--', color=\"green\", label=\"VO: Desviación típica\")\n",
    "ax.errorbar(enes, imedias, xerr=0, yerr=idesvis, color=\"blue\", label=\"V. Inicial\")\n",
    "ax.errorbar(enes, omedias, xerr=0, yerr=odesvis, color=\"red\", label=\"V. Optimizada\")\n",
    "#ax.plot(enes, imedias, '--', color=\"blue\", label=\"VI: Media\")\n",
    "#ax.plot(enes, idesvis, '--', color=\"purple\", label=\"VI: Desviación típica\")\n",
    "ax.legend()\n",
    " \n",
    "ax.set_title(\"Comparación: Visión global.\")  # Ponemos un título\n",
    "ax.set_xlabel(\"Número N.\")  # Nombramos los ejes\n",
    "ax.set_ylabel(\"Tempo en segundos.\")\n",
    " \n",
    "plt.show()  # Mostramos a figura por pantalla, que se cor"
   ]
  },
  {
   "cell_type": "code",
   "execution_count": 41,
   "id": "d6815f0d",
   "metadata": {},
   "outputs": [
    {
     "data": {
      "image/png": "[encoded data removed]",
      "text/plain": [
       "<Figure size 432x288 with 1 Axes>"
      ]
     },
     "metadata": {
      "needs_background": "light"
     },
     "output_type": "display_data"
    }
   ],
   "source": [
    "diferencias = []\n",
    "for i in range(len(omedias)):\n",
    "    diferencias.append(imedias[i] - omedias[i])\n",
    "    \n",
    "fig = plt.figure()  # Creamos una figura (contenedor para elementos a dibujar)\n",
    "\n",
    "ax = fig.add_subplot(111, projection='rectilinear')  # añadimos subplot-canvas a la figura (contiene los elementos del dibujo)\n",
    " \n",
    "# añadimos los plots\n",
    "ax.plot(enes, diferencias, '--', color=\"red\", label=\"Diferenzas.\")\n",
    " \n",
    "ax.set_title(\"Diferenzas de tempos entre versións. VI - VO\")  # Ponemos un título\n",
    "ax.set_xlabel(\"Número N.\")  # Nombramos los ejes\n",
    "ax.set_ylabel(\"Tempo en segundos.\")\n",
    " \n",
    "plt.show()  # Mostramos a figura por pantalla, que se cor"
   ]
  },
  {
   "cell_type": "markdown",
   "id": "7df3e4b9",
   "metadata": {},
   "source": [
    "Xa podemos ver unha clara tendecia a aumentar as diferencias a medida que aumentamos o tamaño."
   ]
  },
  {
   "cell_type": "code",
   "execution_count": 43,
   "id": "6763bb3c",
   "metadata": {
    "scrolled": false
   },
   "outputs": [
    {
     "data": {
      "text/plain": [
       "0.8653642140991344"
      ]
     },
     "execution_count": 43,
     "metadata": {},
     "output_type": "execute_result"
    }
   ],
   "source": [
    "omedias[len(omedias)-1]/imedias[len(omedias)-1] #Proporción para tamaño 1 000 000"
   ]
  },
  {
   "cell_type": "code",
   "execution_count": 51,
   "id": "5b2fd114",
   "metadata": {},
   "outputs": [
    {
     "data": {
      "text/plain": [
       "0.832055233107619"
      ]
     },
     "execution_count": 51,
     "metadata": {},
     "output_type": "execute_result"
    }
   ],
   "source": [
    "np.mean(omedias)/np.mean(imedias)  #Proporción para medias"
   ]
  },
  {
   "cell_type": "markdown",
   "id": "0e9cb46c",
   "metadata": {},
   "source": [
    "## Tamaños pequenos."
   ]
  },
  {
   "cell_type": "markdown",
   "id": "c0391aac",
   "metadata": {},
   "source": [
    "Pasamos agora a un análise detallado da zona inicial para ver como se comporta para valores realtivamente pequenos."
   ]
  },
  {
   "cell_type": "code",
   "execution_count": 29,
   "id": "626f2525",
   "metadata": {},
   "outputs": [
    {
     "data": {
      "application/vnd.jupyter.widget-view+json": {
       "model_id": "69f156723e544c83a5d0eda4db7427c5",
       "version_major": 2,
       "version_minor": 0
      },
      "text/plain": [
       "  0%|          | 0/20 [00:00<?, ?it/s]"
      ]
     },
     "metadata": {},
     "output_type": "display_data"
    }
   ],
   "source": [
    "#Inicial\n",
    "#Variando N\n",
    "ipmedias = []\n",
    "ipdesvis = []\n",
    "enes = range(1,20000,1000)\n",
    "0\n",
    "n = 1000\n",
    "ite = 2000\n",
    "for n in tqdm(enes):\n",
    "    vInicial = []\n",
    "    for i in range(10):\n",
    "        result = subprocess.run(['./inicialDin.out', str(n), str(ite)], stdout=subprocess.PIPE)\n",
    "        restext = result.stdout.decode('utf-8')\n",
    "        vInicial.append(float(restext)/ite)\n",
    "    ipmedias.append(obt_res(vInicial)[0])\n",
    "    ipdesvis.append(obt_res(vInicial)[1])"
   ]
  },
  {
   "cell_type": "code",
   "execution_count": 30,
   "id": "7f4b3ace",
   "metadata": {},
   "outputs": [
    {
     "data": {
      "application/vnd.jupyter.widget-view+json": {
       "model_id": "b392fd67132742af8aa010578606896a",
       "version_major": 2,
       "version_minor": 0
      },
      "text/plain": [
       "  0%|          | 0/20 [00:00<?, ?it/s]"
      ]
     },
     "metadata": {},
     "output_type": "display_data"
    }
   ],
   "source": [
    "#OPTIMIZADO\n",
    "#Variando N\n",
    "opmedias = []\n",
    "opdesvis = []\n",
    "enes = range(1,20000,1000)\n",
    "\n",
    "n = 1000\n",
    "ite = 10000\n",
    "for n in tqdm(enes):\n",
    "    vOpt = []\n",
    "    for i in range(10):\n",
    "        result = subprocess.run(['./optimizadoDin.out', str(n), str(ite)], stdout=subprocess.PIPE)\n",
    "        restext = result.stdout.decode('utf-8')\n",
    "        vOpt.append(float(restext)/ite)\n",
    "    opmedias.append(obt_res(vOpt)[0])\n",
    "    opdesvis.append(obt_res(vOpt)[1])"
   ]
  },
  {
   "cell_type": "code",
   "execution_count": 46,
   "id": "268e2a60",
   "metadata": {},
   "outputs": [],
   "source": [
    "enes = range(1,20000,1000)"
   ]
  },
  {
   "cell_type": "code",
   "execution_count": 34,
   "id": "cb2d4152",
   "metadata": {
    "scrolled": false
   },
   "outputs": [
    {
     "data": {
      "image/png": "[encoded data removed]",
      "text/plain": [
       "<Figure size 432x288 with 1 Axes>"
      ]
     },
     "metadata": {
      "needs_background": "light"
     },
     "output_type": "display_data"
    }
   ],
   "source": [
    "fig = plt.figure()  # Creamos una figura (contenedor para elementos a dibujar)\n",
    "ax = fig.add_subplot(111, projection='rectilinear')  # añadimos subplot-canvas a la figura (contiene los elementos del dibujo)\n",
    " \n",
    "# añadimos los plots\n",
    "ax.errorbar(enes, ipmedias, xerr=0, yerr=ipdesvis, color=\"blue\", label=\"V. Inicial\")\n",
    "ax.errorbar(enes, opmedias, xerr=0, yerr=opdesvis, color=\"red\", label=\"V. Optimizada\")\n",
    "ax.legend()\n",
    " \n",
    "ax.set_title(\"Comparación para valores de N pequenos.\")  # Ponemos un título\n",
    "ax.set_xlabel(\"Número N.\")  # Nombramos los ejes\n",
    "ax.set_ylabel(\"Tempo en segundos.\")\n",
    " \n",
    "plt.show()  # Mostramos a figura por pantalla, que se cor"
   ]
  },
  {
   "cell_type": "code",
   "execution_count": 49,
   "id": "c9b31295",
   "metadata": {},
   "outputs": [
    {
     "data": {
      "image/png": "[encoded data removed]",
      "text/plain": [
       "<Figure size 432x288 with 1 Axes>"
      ]
     },
     "metadata": {
      "needs_background": "light"
     },
     "output_type": "display_data"
    }
   ],
   "source": [
    "pdiferencias = []\n",
    "for i in range(len(opmedias)):\n",
    "    pdiferencias.append(ipmedias[i] - opmedias[i])\n",
    "    \n",
    "fig = plt.figure()  # Creamos una figura (contenedor para elementos a dibujar)\n",
    "\n",
    "ax = fig.add_subplot(111, projection='rectilinear')  # añadimos subplot-canvas a la figura (contiene los elementos del dibujo)\n",
    " \n",
    "# añadimos los plots\n",
    "ax.plot(enes, pdiferencias, '--', color=\"red\", label=\"Diferenzas.\")\n",
    " \n",
    "ax.set_title(\"Diferenzas. VI - VO (Tam. pequenos.)\")  # Ponemos un título\n",
    "ax.set_xlabel(\"Número N.\")  # Nombramos los ejes\n",
    "ax.set_ylabel(\"Tempo en segundos.\")\n",
    " \n",
    "plt.show()  # Mostramos a figura por pantalla, que se cor"
   ]
  },
  {
   "cell_type": "code",
   "execution_count": 50,
   "id": "cb72892b",
   "metadata": {},
   "outputs": [
    {
     "data": {
      "text/plain": [
       "0.7919586513533735"
      ]
     },
     "execution_count": 50,
     "metadata": {},
     "output_type": "execute_result"
    }
   ],
   "source": [
    "opmedias[len(opmedias)-1]/ipmedias[len(opmedias)-1] #Proporción para tamaño 20 000”"
   ]
  },
  {
   "cell_type": "code",
   "execution_count": 52,
   "id": "da7fff13",
   "metadata": {},
   "outputs": [
    {
     "data": {
      "text/plain": [
       "0.849251514880371"
      ]
     },
     "execution_count": 52,
     "metadata": {},
     "output_type": "execute_result"
    }
   ],
   "source": [
    "np.mean(opmedias)/np.mean(ipmedias)  #Proporción para medias"
   ]
  }
 ],
 "metadata": {
  "kernelspec": {
   "display_name": "Python 3 (ipykernel)",
   "language": "python",
   "name": "python3"
  },
  "language_info": {
   "codemirror_mode": {
    "name": "ipython",
    "version": 3
   },
   "file_extension": ".py",
   "mimetype": "text/x-python",
   "name": "python",
   "nbconvert_exporter": "python",
   "pygments_lexer": "ipython3",
   "version": "3.8.8"
  }
 },
 "nbformat": 4,
 "nbformat_minor": 5
}
